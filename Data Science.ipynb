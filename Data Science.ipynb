{
 "cells": [
  {
   "cell_type": "markdown",
   "metadata": {},
   "source": [
    "<style>\n",
    "    .small {\n",
    "        font-size: 5px;\n",
    "    }\n",
    "</style>\n",
    "<h2>Structuring a problem</h2>\n",
    "<h4 style=\"font-weight: 400; line-height:1.5;\">\n",
    "    The null hypothesis has to be related to a business problem. Moreover, in most scenarios, the alternate hypothesis presented is what the statistician or data scientist has set out to prove. \n",
    "    <strong>Therefore, the hypothesis testing should be approached from an alternate hypothesis point of view.</strong>\n",
    "</h4>\n",
    "<h4 style=\"font-weight:400; line-height: 1.5;\">\n",
    "    A company has data describing the efficiency scores of in-person business meetings they have company-wide. They are looking to utilize more online options such as Google Meet and Zoom to see if these services could help improve meeting efficiency scores. As a data scientist, your job is to predict how effective these services could be. (Assume the efficiency scores of the in-person meetings are 50 (out of 100)).\n",
    "    <br />\n",
    "    <br />\n",
    "    <strong>H<span class=\"small\">o</span></strong>: The efficiency of the online services will result in an efficiency score equal to or less than 50.\n",
    "    <br />\n",
    "    <strong>H<span class=\"small\">a</span></strong>: The efficiency of the online services will result in an efficiency score greater than 50.\n",
    "    <br />\n",
    "    <i>*Only the null hypothesis can have an equality sign because we never prove the null hypothesis, we either reject it or fail to reject it.</i>\n",
    "</h4>"
   ]
  },
  {
   "cell_type": "markdown",
   "metadata": {},
   "source": [
    "<h2>Obtaining information about the new situation in the proposed problem.</h2>\n",
    "<h4 style=\"font-weight: 400; line-height: 1.5;\">\n",
    "    <ol>\n",
    "        <li>Find a sample to gather information about the proposed problem.<br />Ex) Take a sample of 35 company-wide meetings that used online services and collect data about their efficiencies.</li>\n",
    "        <li>Perform some analysis on the sample data. <br /> Ex) The efficiency score of the online meetings was 75, with a standard deviation of 7. Therefore, the standard error is 1.18.</li>\n",
    "        <li>Establish an alpha value (level of significance) that will be used in the hypothesis testing <br />Ex) 0.05</li>\n",
    "    </ol>\n",
    "</h4>"
   ]
  },
  {
   "cell_type": "markdown",
   "metadata": {},
   "source": [
    "<style>\n",
    "    .small {\n",
    "        font-size: 5px;\n",
    "    }\n",
    "</style>\n",
    "<h2>Performing the hypothesis test</h2>\n",
    "<h4 style=\"font-weight: 400; line-height: 1.5;\">\n",
    "    <ol>\n",
    "        <li>For the example stated above, a z-test is the best way to compare the mean scores. When we run the z-test, we find out the p-value (significance value) is 2.34<span class=\"small\">E</span>-99.</li>\n",
    "        <li>Since our p-value is much lower than our level of significance at 0.05. Therefore, we reject the null hypothesis and can say the online services do increase efficiency of company meetings.</li>\n",
    "    </ol>\n",
    "</h4>"
   ]
  },
  {
   "cell_type": "code",
   "execution_count": null,
   "metadata": {},
   "outputs": [],
   "source": []
  }
 ],
 "metadata": {
  "kernelspec": {
   "display_name": "Python 3",
   "language": "python",
   "name": "python3"
  },
  "language_info": {
   "codemirror_mode": {
    "name": "ipython",
    "version": 3
   },
   "file_extension": ".py",
   "mimetype": "text/x-python",
   "name": "python",
   "nbconvert_exporter": "python",
   "pygments_lexer": "ipython3",
   "version": "3.7.5"
  }
 },
 "nbformat": 4,
 "nbformat_minor": 4
}
