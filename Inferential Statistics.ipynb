{
 "cells": [
  {
   "cell_type": "markdown",
   "metadata": {},
   "source": [
    "<style>\n",
    "    .small {\n",
    "        font-size: 5px;\n",
    "    }\n",
    "</style>\n",
    "<h2>Structuring a problem</h2>\n",
    "<h4 style=\"font-weight: 400; line-height:1.5;\">\n",
    "    The null hypothesis has to be related to a business problem. Moreover, in most scenarios, the alternate hypothesis presented is what the statistician or data scientist has set out to prove. \n",
    "    <strong>Therefore, the hypothesis testing should be approached from an alternate hypothesis point of view.</strong>\n",
    "</h4>\n",
    "<h4 style=\"font-weight:400; line-height: 1.5;\">\n",
    "    A company has data describing the efficiency scores of in-person business meetings they have company-wide. They are looking to utilize more online options such as Google Meet and Zoom to see if these services could help improve meeting efficiency scores. As a data scientist, your job is to predict how effective these services could be. (Assume the efficiency scores of the in-person meetings are 50 (out of 100), with a standard deviation of 7).\n",
    "    <br />\n",
    "    <br />\n",
    "    <strong>H<span class=\"small\">o</span></strong>: The efficiency of the online services will result in an efficiency score equal to or less than 50.\n",
    "    <br />\n",
    "    <strong>H<span class=\"small\">a</span></strong>: The efficiency of the online services will result in an efficiency score greater than 50.\n",
    "    <br />\n",
    "    <i>*Only the null hypothesis can have an equality sign because we never prove the null hypothesis, we either reject it or fail to reject it.</i>\n",
    "</h4>"
   ]
  },
  {
   "cell_type": "markdown",
   "metadata": {},
   "source": [
    "<h2>Obtaining information about the new situation in the proposed problem.</h2>\n",
    "<h4 style=\"font-weight: 400; line-height: 1.5;\">\n",
    "    <ol>\n",
    "        <li>Find a sample to gather information about the proposed problem.<br />Ex) Take a sample of 35 company-wide meetings that used online services and collect data about their efficiencies.</li>\n",
    "        <li>Perform some analysis on the sample data. <br /> Ex) The efficiency score of the online meetings was 75. Therefore, the standard error is 1.18.</li>\n",
    "        <li>Establish an alpha value (level of significance) that will be used in the hypothesis testing <br />Ex) 0.05</li>\n",
    "    </ol>\n",
    "</h4>"
   ]
  },
  {
   "cell_type": "markdown",
   "metadata": {},
   "source": [
    "<style>\n",
    "    .small {\n",
    "        font-size: 5px;\n",
    "    }\n",
    "</style>\n",
    "<h2>Performing the hypothesis test</h2>\n",
    "<h4 style=\"font-weight: 400; line-height: 1.5;\">\n",
    "    <ol>\n",
    "        <li>For the example stated above, a z-test is the best way to compare the mean scores. When we run the z-test, we find out the p-value (significance value) is 2.34<span class=\"small\">E</span>-99.</li>\n",
    "        <li>Since our p-value is much lower than our level of significance at 0.05. Therefore, we reject the null hypothesis and can say the online services do increase efficiency of company meetings.</li>\n",
    "    </ol>\n",
    "</h4>"
   ]
  },
  {
   "cell_type": "code",
   "execution_count": 1,
   "metadata": {},
   "outputs": [],
   "source": [
    "import scipy.stats as stats"
   ]
  },
  {
   "cell_type": "markdown",
   "metadata": {},
   "source": [
    "<h3>Here we calculate what the critical value was for the z-test done above.</h3>"
   ]
  },
  {
   "cell_type": "code",
   "execution_count": 2,
   "metadata": {},
   "outputs": [],
   "source": [
    "alpha = 0.05\n",
    "original_mean = 50\n",
    "scale = 2"
   ]
  },
  {
   "cell_type": "code",
   "execution_count": 3,
   "metadata": {},
   "outputs": [
    {
     "name": "stdout",
     "output_type": "stream",
     "text": [
      "53.28970725390295\n"
     ]
    }
   ],
   "source": [
    "print(stats.norm.isf(alpha,original_mean, scale))"
   ]
  },
  {
   "cell_type": "markdown",
   "metadata": {},
   "source": [
    "<h4 style=\"font-weight: 600; line-height: 2;\">Any value above 53.28 will be statistically significant given an alpha of 0.05 and an original mean of 50. Therefore, since our new mean was 75, this definitely means the results from the online services are significant.</h4>"
   ]
  },
  {
   "cell_type": "markdown",
   "metadata": {},
   "source": [
    "<h2>Important Hypothesis Test</h2>\n",
    "<ul>\n",
    "    <li>Z-test</li>\n",
    "    <li>T-test</li>\n",
    "    <li>ANOVA</li>\n",
    "    <li>Welch T-test</li>\n",
    "    <li>Mann-Whitney U-Test</li>\n",
    "    <li>Kruskal Willis H-test</li>\n",
    "    <li>Pearson's Chi-square test</li>\n",
    "    <li>Shapiro Wilk Test</li>\n",
    "</ul>\n",
    "<i>Note: These hypothesis tests will be used in conjunction with the output variables to perform feature selection. For the features whose hypothesis tests have p-values less than 0.05, we keep. For the ones that do not have p-values less than 0.05, we do not drop them right away. Instead, we combine them to create new features that could possibly be more meaningful</i>\n",
    "\n",
    "<h2>Important Wrapper Methods</h2>\n",
    "<ul>\n",
    "    \n",
    "</ul>\n",
    "<a href=\"https://sebastianraschka.com/faq/docs/feature_sele_categories.html\">Extra information about wrapper, embedded, and filter methods for feature selection</a>"
   ]
  },
  {
   "cell_type": "markdown",
   "metadata": {},
   "source": [
    "<h2>Ways to Calculate Relationships between Variables</h2>\n",
    "<ul>\n",
    "    <li>Numerical - Numerical: Correlation</li>\n",
    "    <li>Numerical - Categorical: ANOVA</li>\n",
    "    <li>Categorical - Categorical: Chi-Squared</li>\n",
    "</ul>"
   ]
  },
  {
   "cell_type": "markdown",
   "metadata": {},
   "source": [
    "<style>\n",
    "    .small {\n",
    "        font-size: 5px;\n",
    "    }\n",
    "</style>\n",
    "<h2>ANOVA</h2>\n",
    "<p>\n",
    "    <ul>\n",
    "        <li>Used for comparing means between more than 2 groups</li>\n",
    "        <li>\n",
    "            Key Terminology\n",
    "            <ul>\n",
    "                <li><strong>F-Distribution</strong>: The variance between groups divided by the variance within groups (Will be 1 if sample variances are equal)\n",
    "            </ul>\n",
    "        </li>\n",
    "    </ul>\n",
    "    <p>\n",
    "    <p>\n",
    "        H<span class=\"small\">o</span>: U<span class=\"small\">1</span> = U<span class=\"small\">2</span> = U<span class=\"small\">3</span>\n",
    "     </p>\n",
    "    <p>\n",
    "        H<span class=\"small\">a</span>: Not all the population means are the same\n",
    "    </p>\n",
    "    <i>U is a mean</i>\n",
    "    </p>\n",
    "</p>\n",
    "<h4>Steps</h4>\n",
    "<ol>\n",
    "    <li>Calculate the means of each of the features</li>\n",
    "    <li>Calculate the <strong>within group sample variance ( Sum of Squares Within - SSW)</strong> for each of the features\n",
    "        <br /> \n",
    "        <i>Equation: (X<span class=\"small\">i</span> - X<span class=\"small\">mean</span>)**2 / (n-1)</i>\n",
    "        <br />\n",
    "        <i>Note: the degrees of freedom (dof) is number of instances * number of columns - number of columns</i>\n",
    "    </li>\n",
    "    <li>Steps to calculate the <strong>between sample variances (Sum of Squares Between - SSB)</strong>\n",
    "        <ol>\n",
    "            <li>Sum the data points of all the features together and divided by total number of data points. <i>This is called the grand mean</i></li>\n",
    "            <li>For each feature, substact the sample means from the grand mean and square them. Then add them together</li>\n",
    "            <li>Multiply this value by the number of observations in one feature. <br />\n",
    "                <i>Equation: Sum of((feature_mean-grand_mean)**2)*number_of_instances</i></li>\n",
    "            <li>Calculate the Total Sum of Squares by adding the sum of squares between and the sum of squares within. <br />\n",
    "                <i>Equation: SSW + SSB = TSS</i>\n",
    "            </li>\n",
    "        </ol>\n",
    "        <br />\n",
    "        <i>Note: the degrees of freedom (dof) is number of features - 1</i>\n",
    "    </li>\n",
    "    <li>\n",
    "        Calculate the <strong>F-statistic</strong>\n",
    "        <br />\n",
    "        <i>Equation: (SSB / k - 1) / (SSW / nk - k)</i>\n",
    "        <br />\n",
    "        <i>**k is the number of columns and n is the number of instances per column</i>\n",
    "    </li>\n",
    "    <li>Compare the F-statistic to its corresponding f-statistic in the f-statistic chart</li>\n",
    "    <a href=\"http://www.socr.ucla.edu/Applets.dir/F_Table.html\">Link of F-statistic chart</a>\n",
    "</ol>\n",
    "\n",
    "<i>**To Calculate variance by diving SSB/TSS</i>"
   ]
  },
  {
   "cell_type": "markdown",
   "metadata": {},
   "source": [
    "<style>\n",
    "    \n",
    "    .indent {\n",
    "        margin-left: 40px;\n",
    "    }\n",
    "    .small {\n",
    "        font-size: 5px;\n",
    "    }\n",
    "</style>\n",
    "<h2>Z-Test/T-Test</h2>\n",
    "<div>\n",
    "    <p>\n",
    "        <span class=\"index\">Often</span> times when you are adding and dropping features from your dataset, you are doing so to improve the performance of your machine learning model. However, it is also important to determine whether those choices have a statistically significant impact on the final results. Therefore, it is common practice to gather data on the the machine learning models before and after adding/dropping certain features using Stratified Splitting multiple times.\n",
    "     </p>\n",
    "     <p>\n",
    "    <span class=\"index\">After</span> obtaining these scores, we now have two samples, one with scores from before adjusting the features and one with scores from after adjusting them. We can use a 2-sample t-test (if the number of samples is less than 30) or a 2-sample z-test( if the number of samples is greater than 30) to determine if the change was significant.\n",
    "    </p>\n",
    "</div>"
   ]
  },
  {
   "cell_type": "code",
   "execution_count": null,
   "metadata": {},
   "outputs": [],
   "source": []
  }
 ],
 "metadata": {
  "kernelspec": {
   "display_name": "Python 3",
   "language": "python",
   "name": "python3"
  },
  "language_info": {
   "codemirror_mode": {
    "name": "ipython",
    "version": 3
   },
   "file_extension": ".py",
   "mimetype": "text/x-python",
   "name": "python",
   "nbconvert_exporter": "python",
   "pygments_lexer": "ipython3",
   "version": "3.7.5"
  }
 },
 "nbformat": 4,
 "nbformat_minor": 4
}
